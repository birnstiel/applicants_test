{
 "cells": [
  {
   "cell_type": "code",
   "execution_count": null,
   "id": "aboriginal-image",
   "metadata": {},
   "outputs": [],
   "source": [
    "import numpy as np\n",
    "import matplotlib.pyplot as plt"
   ]
  },
  {
   "cell_type": "code",
   "execution_count": null,
   "id": "interior-familiar",
   "metadata": {},
   "outputs": [],
   "source": [
    "au       = 1.496e13      # cm\n",
    "M_sun    = 1.988e+33     # g\n",
    "yr       = 3.15576e7     # s\n",
    "sigma_sb = 5.6703744e-5  # g/(s**3 K**4)"
   ]
  },
  {
   "cell_type": "markdown",
   "id": "medical-genealogy",
   "metadata": {},
   "source": [
    "# Question 1"
   ]
  },
  {
   "cell_type": "markdown",
   "id": "painted-forestry",
   "metadata": {},
   "source": [
    "A *spherically symmetric* mass distribution is given in file `data.dat`. You can download this file [here](https://dl.dropboxusercontent.com/s/e9bev0fg21ygrqh/data.dat). The first column is the radial coordinate in cm, the second column the density in g/cm$^3$. Calculate the total mass of this distribution in solar masses and the radial optical depth assuming a constant opacity of $\\kappa = 2 \\frac{\\mathrm{cm^2}}{\\mathrm{g}}$."
   ]
  },
  {
   "cell_type": "code",
   "execution_count": null,
   "id": "sufficient-confusion",
   "metadata": {},
   "outputs": [],
   "source": [
    "kappa = 2.0\n",
    "\n",
    "r, rho = np.loadtxt('data.dat').T\n",
    "\n",
    "f, ax = plt.subplots()\n",
    "ax.loglog(r / au, rho);"
   ]
  },
  {
   "cell_type": "code",
   "execution_count": null,
   "id": "musical-creator",
   "metadata": {},
   "outputs": [],
   "source": [
    "tau = ...\n",
    "print(f'tau_r = {tau:.2g}')"
   ]
  },
  {
   "cell_type": "code",
   "execution_count": null,
   "id": "informational-circulation",
   "metadata": {},
   "outputs": [],
   "source": [
    "M = ...\n",
    "print(f'total mass = {M / M_sun:.2g} M_sun')"
   ]
  },
  {
   "cell_type": "markdown",
   "id": "mediterranean-leave",
   "metadata": {},
   "source": [
    "# Question 2: Integration"
   ]
  },
  {
   "cell_type": "markdown",
   "id": "actual-colors",
   "metadata": {},
   "source": [
    "Integrate the following equation forward in time:\n",
    "\n",
    "$$\\mathsf{ \\Sigma \\, c_v \\,  \\frac{dT}{dt} = q - \\sigma_{SB} \\, T^4}$$\n",
    "\n",
    "The initial condition is $T = 10^4\\,\\mathsf{K}$ at time $t=0$. You can write your own integrator (first order is fine) or use available libraries.\n",
    "\n",
    "Integrate up to 0.01 years. What temperature is reached at $t=0.01$ years? How about at $t = \\infty$?"
   ]
  },
  {
   "cell_type": "markdown",
   "id": "worth-drama",
   "metadata": {},
   "source": [
    "\\begin{align}\n",
    "c_v     &= 5.422 \\times 10^7 \\, \\mathrm{erg / (g \\cdot K)} \\\\\n",
    "q       &= 5670 \\, \\mathrm{erg / (s \\cdot cm^2)} \\\\\n",
    "\\Sigma  &= 10^3 \\,  \\mathrm{g / cm^2}\n",
    "\\end{align}"
   ]
  },
  {
   "cell_type": "code",
   "execution_count": null,
   "id": "executed-architecture",
   "metadata": {},
   "outputs": [],
   "source": [
    "cv  = 5.422e7  # erg / (g * K)\n",
    "T0  = 1e4      # K\n",
    "q   = 5670.38  # erg / (s * cm**2)\n",
    "Sig = 1e3      # g / cm^2"
   ]
  },
  {
   "cell_type": "code",
   "execution_count": null,
   "id": "painful-jonathan",
   "metadata": {},
   "outputs": [],
   "source": [
    "solution = ..."
   ]
  },
  {
   "cell_type": "code",
   "execution_count": null,
   "id": "micro-winner",
   "metadata": {},
   "outputs": [],
   "source": [
    "f, ax = plt.subplots()\n",
    "ax.semilogy(t / yr, solution)\n",
    "ax.set_xlabel('$t$ [yr]')\n",
    "ax.set_ylabel('$T$ [K]')\n",
    "print(f'T at 0.01 year = {solution[-1]:.4g} K')"
   ]
  }
 ],
 "metadata": {
  "kernelspec": {
   "display_name": "Python 3",
   "language": "python",
   "name": "python3"
  },
  "language_info": {
   "codemirror_mode": {
    "name": "ipython",
    "version": 3
   },
   "file_extension": ".py",
   "mimetype": "text/x-python",
   "name": "python",
   "nbconvert_exporter": "python",
   "pygments_lexer": "ipython3",
   "version": "3.8.5"
  }
 },
 "nbformat": 4,
 "nbformat_minor": 5
}
